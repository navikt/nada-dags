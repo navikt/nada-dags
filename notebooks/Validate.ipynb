{
 "cells": [
  {
   "cell_type": "markdown",
   "metadata": {},
   "source": [
    "### Create xcom directory"
   ]
  },
  {
   "cell_type": "code",
   "execution_count": null,
   "metadata": {},
   "outputs": [],
   "source": [
    "! mkdir -p /airflow/xcom"
   ]
  },
  {
   "cell_type": "markdown",
   "metadata": {},
   "source": [
    "### Imports"
   ]
  },
  {
   "cell_type": "code",
   "execution_count": 1,
   "metadata": {},
   "outputs": [],
   "source": [
    "import great_expectations as ge\n",
    "import requests\n",
    "import json\n",
    "from pprint import pprint as pp\n",
    "from io import StringIO"
   ]
  },
  {
   "cell_type": "markdown",
   "metadata": {},
   "source": [
    "### Fetch styrk koder and load into ge dataframe"
   ]
  },
  {
   "cell_type": "code",
   "execution_count": 2,
   "metadata": {},
   "outputs": [],
   "source": [
    "res = requests.get(\"https://data.adeo.no/api/nav-opendata/styrk-koder/styrk_s3.csv\")"
   ]
  },
  {
   "cell_type": "code",
   "execution_count": 3,
   "metadata": {},
   "outputs": [],
   "source": [
    "buffer = StringIO(res.text)"
   ]
  },
  {
   "cell_type": "code",
   "execution_count": 4,
   "metadata": {},
   "outputs": [],
   "source": [
    "ge_df = ge.read_csv(buffer)"
   ]
  },
  {
   "cell_type": "code",
   "execution_count": 5,
   "metadata": {},
   "outputs": [
    {
     "data": {
      "text/html": [
       "<div>\n",
       "<style scoped>\n",
       "    .dataframe tbody tr th:only-of-type {\n",
       "        vertical-align: middle;\n",
       "    }\n",
       "\n",
       "    .dataframe tbody tr th {\n",
       "        vertical-align: top;\n",
       "    }\n",
       "\n",
       "    .dataframe thead th {\n",
       "        text-align: right;\n",
       "    }\n",
       "</style>\n",
       "<table border=\"1\" class=\"dataframe\">\n",
       "  <thead>\n",
       "    <tr style=\"text-align: right;\">\n",
       "      <th></th>\n",
       "      <th>code</th>\n",
       "      <th>parentCode</th>\n",
       "      <th>level</th>\n",
       "      <th>name</th>\n",
       "      <th>shortName</th>\n",
       "      <th>notes</th>\n",
       "    </tr>\n",
       "  </thead>\n",
       "  <tbody>\n",
       "    <tr>\n",
       "      <th>0</th>\n",
       "      <td>0</td>\n",
       "      <td>NaN</td>\n",
       "      <td>1</td>\n",
       "      <td>Militære yrker og uoppgitt</td>\n",
       "      <td>NaN</td>\n",
       "      <td>NaN</td>\n",
       "    </tr>\n",
       "    <tr>\n",
       "      <th>1</th>\n",
       "      <td>1</td>\n",
       "      <td>NaN</td>\n",
       "      <td>1</td>\n",
       "      <td>Ledere</td>\n",
       "      <td>NaN</td>\n",
       "      <td>NaN</td>\n",
       "    </tr>\n",
       "    <tr>\n",
       "      <th>2</th>\n",
       "      <td>2</td>\n",
       "      <td>NaN</td>\n",
       "      <td>1</td>\n",
       "      <td>Akademiske yrker</td>\n",
       "      <td>NaN</td>\n",
       "      <td>NaN</td>\n",
       "    </tr>\n",
       "    <tr>\n",
       "      <th>3</th>\n",
       "      <td>3</td>\n",
       "      <td>NaN</td>\n",
       "      <td>1</td>\n",
       "      <td>Høyskoleyrker</td>\n",
       "      <td>NaN</td>\n",
       "      <td>NaN</td>\n",
       "    </tr>\n",
       "    <tr>\n",
       "      <th>4</th>\n",
       "      <td>4</td>\n",
       "      <td>NaN</td>\n",
       "      <td>1</td>\n",
       "      <td>Kontoryrker</td>\n",
       "      <td>NaN</td>\n",
       "      <td>NaN</td>\n",
       "    </tr>\n",
       "  </tbody>\n",
       "</table>\n",
       "</div>"
      ],
      "text/plain": [
       "   code  parentCode  level                        name  shortName notes\n",
       "0     0         NaN      1  Militære yrker og uoppgitt        NaN   NaN\n",
       "1     1         NaN      1                      Ledere        NaN   NaN\n",
       "2     2         NaN      1            Akademiske yrker        NaN   NaN\n",
       "3     3         NaN      1               Høyskoleyrker        NaN   NaN\n",
       "4     4         NaN      1                 Kontoryrker        NaN   NaN"
      ]
     },
     "execution_count": 5,
     "metadata": {},
     "output_type": "execute_result"
    }
   ],
   "source": [
    "ge_df.head()"
   ]
  },
  {
   "cell_type": "markdown",
   "metadata": {},
   "source": [
    "### Run validation tests"
   ]
  },
  {
   "cell_type": "code",
   "execution_count": 6,
   "metadata": {},
   "outputs": [],
   "source": [
    "validation_errors = []"
   ]
  },
  {
   "cell_type": "code",
   "execution_count": 7,
   "metadata": {},
   "outputs": [
    {
     "name": "stdout",
     "output_type": "stream",
     "text": [
      "Successful range check 1-4 for level columnRange check 1-4 for level column\n"
     ]
    }
   ],
   "source": [
    "# Range check 1-4 for level column\n",
    "valid_range = list(range(1,5))\n",
    "res = ge_df.expect_column_values_to_be_in_set('level', valid_range)\n",
    "validation_errors.append(res.to_json_dict()) if not res[\"success\"] else print(\"Successful range check 1-4 for level columnRange check 1-4 for level column\")"
   ]
  },
  {
   "cell_type": "code",
   "execution_count": 8,
   "metadata": {},
   "outputs": [
    {
     "name": "stdout",
     "output_type": "stream",
     "text": [
      "Successful regex check for name column\n"
     ]
    }
   ],
   "source": [
    "# Regex check for name column\n",
    "valid_regex = \"[\\wæøåÆØÅ]\"\n",
    "res = ge_df.expect_column_values_to_match_regex('name', regex=valid_regex)\n",
    "validation_errors.append(res.to_json_dict()) if not res[\"success\"] else print(\"Successful regex check for name column\")"
   ]
  },
  {
   "cell_type": "code",
   "execution_count": 9,
   "metadata": {},
   "outputs": [],
   "source": [
    "# Check for valid max/min styrk code column\n",
    "styrk_min = 0\n",
    "styrk_max = 9000\n",
    "res = ge_df.expect_column_values_to_be_between('code', min_value=styrk_min, max_value=styrk_max)\n",
    "validation_errors.append(res.to_json_dict()) if not res[\"success\"] else print(\"Successful check for valid max/min styrk code column\")"
   ]
  },
  {
   "cell_type": "markdown",
   "metadata": {},
   "source": [
    "### Print validation errors to std"
   ]
  },
  {
   "cell_type": "code",
   "execution_count": 10,
   "metadata": {},
   "outputs": [
    {
     "name": "stdout",
     "output_type": "stream",
     "text": [
      "{'exception_info': {'exception_message': None,\n",
      "                    'exception_traceback': None,\n",
      "                    'raised_exception': False},\n",
      " 'expectation_config': {'expectation_type': 'expect_column_values_to_be_between',\n",
      "                        'kwargs': {'column': 'code',\n",
      "                                   'max_value': 9000,\n",
      "                                   'min_value': 0,\n",
      "                                   'result_format': 'BASIC'},\n",
      "                        'meta': {}},\n",
      " 'meta': {},\n",
      " 'result': {'element_count': 582,\n",
      "            'missing_count': 0,\n",
      "            'missing_percent': 0.0,\n",
      "            'partial_unexpected_list': [9111,\n",
      "                                        9112,\n",
      "                                        9122,\n",
      "                                        9123,\n",
      "                                        9129,\n",
      "                                        9211,\n",
      "                                        9212,\n",
      "                                        9213,\n",
      "                                        9214,\n",
      "                                        9215,\n",
      "                                        9216,\n",
      "                                        9311,\n",
      "                                        9312,\n",
      "                                        9313,\n",
      "                                        9321,\n",
      "                                        9329,\n",
      "                                        9331,\n",
      "                                        9333,\n",
      "                                        9334,\n",
      "                                        9412],\n",
      "            'unexpected_count': 28,\n",
      "            'unexpected_percent': 4.810996563573884,\n",
      "            'unexpected_percent_nonmissing': 4.810996563573884},\n",
      " 'success': False}\n"
     ]
    }
   ],
   "source": [
    "print(\"Validation errors\")\n",
    "pp(validation_errors[0])"
   ]
  },
  {
   "cell_type": "markdown",
   "metadata": {},
   "source": [
    "### Write validation errors to xcom output file"
   ]
  },
  {
   "cell_type": "code",
   "execution_count": null,
   "metadata": {},
   "outputs": [],
   "source": [
    "with open(\"/airflow/xcom/return.json\", \"w\") as f:\n",
    "    f.write(json.dumps(validation_errors))"
   ]
  }
 ],
 "metadata": {
  "kernelspec": {
   "display_name": "Python 3",
   "language": "python",
   "name": "python3"
  },
  "language_info": {
   "codemirror_mode": {
    "name": "ipython",
    "version": 3
   },
   "file_extension": ".py",
   "mimetype": "text/x-python",
   "name": "python",
   "nbconvert_exporter": "python",
   "pygments_lexer": "ipython3",
   "version": "3.7.4"
  }
 },
 "nbformat": 4,
 "nbformat_minor": 4
}
