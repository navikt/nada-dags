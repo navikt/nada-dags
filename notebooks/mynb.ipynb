{
 "cells": [
  {
   "cell_type": "code",
   "execution_count": 1,
   "id": "835affec",
   "metadata": {},
   "outputs": [],
   "source": [
    "from knada_gsm import api as gsm_api"
   ]
  },
  {
   "cell_type": "code",
   "execution_count": 2,
   "id": "37e4727f",
   "metadata": {},
   "outputs": [
    {
     "ename": "AttributeError",
     "evalue": "module 'dataverk_gsm.api' has no attribute 'get_secrets'",
     "output_type": "error",
     "traceback": [
      "\u001b[0;31m---------------------------------------------------------------------------\u001b[0m",
      "\u001b[0;31mAttributeError\u001b[0m                            Traceback (most recent call last)",
      "\u001b[0;32m/var/folders/10/d9grjjyj169_2cp__4d8k71m0000gn/T/ipykernel_13468/2378314474.py\u001b[0m in \u001b[0;36m<module>\u001b[0;34m\u001b[0m\n\u001b[0;32m----> 1\u001b[0;31m \u001b[0mgsm_api\u001b[0m\u001b[0;34m.\u001b[0m\u001b[0mget_secrets\u001b[0m\u001b[0;34m(\u001b[0m\u001b[0;34m)\u001b[0m\u001b[0;34m\u001b[0m\u001b[0;34m\u001b[0m\u001b[0m\n\u001b[0m",
      "\u001b[0;31mAttributeError\u001b[0m: module 'dataverk_gsm.api' has no attribute 'get_secrets'"
     ]
    }
   ],
   "source": [
    "secrets = gsm_api.get_secrets()\n",
    "print(secrets)"
   ]
  },
  {
   "cell_type": "code",
   "execution_count": null,
   "id": "e4f71fb0",
   "metadata": {},
   "outputs": [],
   "source": [
    "gsm_api.set_secrets_as_envs()"
   ]
  },
  {
   "cell_type": "code",
   "execution_count": null,
   "id": "9eb7f050",
   "metadata": {},
   "outputs": [],
   "source": [
    "import os\n",
    "print(os.environ[\"erik\"])"
   ]
  }
 ],
 "metadata": {
  "kernelspec": {
   "display_name": "Python 3 (ipykernel)",
   "language": "python",
   "name": "python3"
  },
  "language_info": {
   "codemirror_mode": {
    "name": "ipython",
    "version": 3
   },
   "file_extension": ".py",
   "mimetype": "text/x-python",
   "name": "python",
   "nbconvert_exporter": "python",
   "pygments_lexer": "ipython3",
   "version": "3.9.14"
  }
 },
 "nbformat": 4,
 "nbformat_minor": 5
}
