{
 "cells": [
  {
   "cell_type": "code",
   "execution_count": null,
   "id": "0ef98384-c2c5-454f-bda9-b61cace54950",
   "metadata": {
    "tags": []
   },
   "outputs": [],
   "source": [
    "print(\"hello\")"
   ]
  },
  {
   "cell_type": "code",
   "execution_count": null,
   "id": "aab509ab",
   "metadata": {},
   "outputs": [],
   "source": [
    "with open(\"minfil.json\") as f:\n",
    "    data = f.read()"
   ]
  },
  {
   "cell_type": "code",
   "execution_count": null,
   "id": "f2116428",
   "metadata": {},
   "outputs": [],
   "source": [
    "print(data)"
   ]
  },
  {
   "cell_type": "code",
   "execution_count": null,
   "id": "b2ab52d5",
   "metadata": {},
   "outputs": [],
   "source": [
    "! mkdir -p /airflow/xcom/\n",
    "import json\n",
    "with open('/airflow/xcom/return.json', 'w') as f:\n",
    "        f.write(json.dumps(data))"
   ]
  }
 ],
 "metadata": {
  "kernelspec": {
   "display_name": "Python 3 (ipykernel)",
   "language": "python",
   "name": "python3"
  },
  "language_info": {
   "codemirror_mode": {
    "name": "ipython",
    "version": 3
   },
   "file_extension": ".py",
   "mimetype": "text/x-python",
   "name": "python",
   "nbconvert_exporter": "python",
   "pygments_lexer": "ipython3",
   "version": "3.10.9"
  }
 },
 "nbformat": 4,
 "nbformat_minor": 5
}
