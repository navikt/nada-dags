{
 "cells": [
  {
   "cell_type": "code",
   "execution_count": 30,
   "metadata": {},
   "outputs": [],
   "source": [
    "import requests\n",
    "import os\n",
    "import json\n",
    "from google.cloud import storage, bigquery\n",
    "from dataverk_vault import api as vault_api"
   ]
  },
  {
   "cell_type": "code",
   "execution_count": 31,
   "metadata": {},
   "outputs": [],
   "source": [
    "vault_api.set_secrets_as_envs()"
   ]
  },
  {
   "cell_type": "code",
   "execution_count": 32,
   "metadata": {},
   "outputs": [],
   "source": [
    "with open(\"/home/jovyan/creds.json\", \"w\") as f:\n",
    "    f.write(os.environ[\"STYRK_BUCKET_CREDS\"])\n",
    "    os.environ[\"GOOGLE_APPLICATION_CREDENTIALS\"] = \"/home/jovyan/creds.json\""
   ]
  },
  {
   "cell_type": "code",
   "execution_count": 33,
   "metadata": {},
   "outputs": [],
   "source": [
    "client = storage.Client()"
   ]
  },
  {
   "cell_type": "code",
   "execution_count": 34,
   "metadata": {},
   "outputs": [],
   "source": [
    "bucket = client.get_bucket(\"styrk-bucket\")"
   ]
  },
  {
   "cell_type": "code",
   "execution_count": 35,
   "metadata": {},
   "outputs": [],
   "source": [
    "blob = bucket.blob(\"styrk-koder/styrk.json\")"
   ]
  },
  {
   "cell_type": "code",
   "execution_count": 36,
   "metadata": {},
   "outputs": [],
   "source": [
    "data = json.loads(blob.download_as_string().decode())"
   ]
  },
  {
   "cell_type": "code",
   "execution_count": 37,
   "metadata": {},
   "outputs": [],
   "source": [
    "columns = list(data[\"classificationItems\"][0].keys())"
   ]
  },
  {
   "cell_type": "code",
   "execution_count": 38,
   "metadata": {},
   "outputs": [
    {
     "name": "stdout",
     "output_type": "stream",
     "text": [
      "CREATE OR REPLACE TABLE styrk.koder ( code STRING, parentCode STRING, level STRING, name STRING, shortName STRING, notes STRING );\n"
     ]
    }
   ],
   "source": [
    "create_or_replace_table = \"CREATE OR REPLACE TABLE styrk.koder ( \"\n",
    "for column in columns:\n",
    "    create_or_replace_table += column + \" STRING, \"\n",
    "create_or_replace_table = create_or_replace_table[:-2]\n",
    "create_or_replace_table += \" );\"\n",
    "\n",
    "print(create_or_replace_table)"
   ]
  },
  {
   "cell_type": "code",
   "execution_count": 39,
   "metadata": {},
   "outputs": [],
   "source": [
    "bq_client = bigquery.Client()"
   ]
  },
  {
   "cell_type": "code",
   "execution_count": 40,
   "metadata": {},
   "outputs": [
    {
     "data": {
      "text/plain": [
       "<google.cloud.bigquery.table._EmptyRowIterator at 0x7f29337d9c50>"
      ]
     },
     "execution_count": 40,
     "metadata": {},
     "output_type": "execute_result"
    }
   ],
   "source": [
    "query = bq_client.query(create_or_replace_table)\n",
    "query.result()"
   ]
  },
  {
   "cell_type": "code",
   "execution_count": 41,
   "metadata": {},
   "outputs": [],
   "source": [
    "query = f\"INSERT styrk.koder (\"\n",
    "for column in columns:\n",
    "    query += column + \", \"\n",
    "query = query[:-2]\n",
    "query += \"\"\") \n",
    "VALUES\\n\"\"\"\n",
    "\n",
    "for code in data[\"classificationItems\"]:\n",
    "    query += \"(\"\n",
    "    for key in code.keys():\n",
    "        query += f\"\"\"\"{code.get(key).replace('\"', '').replace(',', '')}\", \"\"\"\n",
    "    query = query[:-2]\n",
    "    query += \"), \\n\"\n",
    "query = query[:-3]"
   ]
  },
  {
   "cell_type": "code",
   "execution_count": 42,
   "metadata": {},
   "outputs": [
    {
     "data": {
      "text/plain": [
       "<google.cloud.bigquery.table._EmptyRowIterator at 0x7f293212b290>"
      ]
     },
     "execution_count": 42,
     "metadata": {},
     "output_type": "execute_result"
    }
   ],
   "source": [
    "query = bq_client.query(query)\n",
    "query.result()"
   ]
  },
  {
   "cell_type": "code",
   "execution_count": null,
   "metadata": {},
   "outputs": [],
   "source": []
  }
 ],
 "metadata": {
  "kernelspec": {
   "display_name": "Python 3",
   "language": "python",
   "name": "python3"
  },
  "language_info": {
   "codemirror_mode": {
    "name": "ipython",
    "version": 3
   },
   "file_extension": ".py",
   "mimetype": "text/x-python",
   "name": "python",
   "nbconvert_exporter": "python",
   "pygments_lexer": "ipython3",
   "version": "3.7.4"
  }
 },
 "nbformat": 4,
 "nbformat_minor": 4
}
