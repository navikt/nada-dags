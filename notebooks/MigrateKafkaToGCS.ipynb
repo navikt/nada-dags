{
 "cells": [
  {
   "cell_type": "markdown",
   "metadata": {},
   "source": [
    "## Imports and initialization"
   ]
  },
  {
   "cell_type": "code",
   "execution_count": 1,
   "metadata": {},
   "outputs": [],
   "source": [
    "import os\n",
    "import json\n",
    "\n",
    "from dataverk import Client\n",
    "from dataverk_vault import api as vault_api\n",
    "from google.cloud import storage\n",
    "from google.oauth2 import service_account"
   ]
  },
  {
   "cell_type": "markdown",
   "metadata": {},
   "source": [
    "### Dataverk"
   ]
  },
  {
   "cell_type": "code",
   "execution_count": 2,
   "metadata": {},
   "outputs": [],
   "source": [
    "dv = Client()\n",
    "vault_api.set_secrets_as_envs()"
   ]
  },
  {
   "cell_type": "markdown",
   "metadata": {},
   "source": [
    "### Google cloud"
   ]
  },
  {
   "cell_type": "code",
   "execution_count": 3,
   "metadata": {},
   "outputs": [],
   "source": [
    "creds = service_account.Credentials.from_service_account_info(json.loads(os.environ[\"GOOGLE_CREDS\"]))"
   ]
  },
  {
   "cell_type": "code",
   "execution_count": 4,
   "metadata": {},
   "outputs": [],
   "source": [
    "client = storage.Client(creds.project_id, credentials=creds)"
   ]
  },
  {
   "cell_type": "code",
   "execution_count": 5,
   "metadata": {},
   "outputs": [],
   "source": [
    "bucket = client.get_bucket(\"styrk-bucket\")"
   ]
  },
  {
   "cell_type": "markdown",
   "metadata": {},
   "source": [
    "## Read from database"
   ]
  },
  {
   "cell_type": "code",
   "execution_count": 6,
   "metadata": {},
   "outputs": [
    {
     "name": "stderr",
     "output_type": "stream",
     "text": [
      "INFO:kafka.conn:<BrokerConnection node_id=bootstrap-0 host=b27apvl00046.preprod.local:8443 <connecting> [IPv4 ('10.183.32.47', 8443)]>: connecting to b27apvl00046.preprod.local:8443 [('10.183.32.47', 8443) IPv4]\n",
      "INFO:kafka.conn:Probing node bootstrap-0 broker version\n",
      "INFO:kafka.conn:<BrokerConnection node_id=bootstrap-0 host=b27apvl00046.preprod.local:8443 <handshake> [IPv4 ('10.183.32.47', 8443)]>: Loading SSL CA from /etc/pki/tls/certs/ca-bundle.crt\n",
      "INFO:kafka.conn:<BrokerConnection node_id=bootstrap-0 host=b27apvl00046.preprod.local:8443 <authenticating> [IPv4 ('10.183.32.47', 8443)]>: Authenticated as srvDataverk via PLAIN\n",
      "INFO:kafka.conn:<BrokerConnection node_id=bootstrap-0 host=b27apvl00046.preprod.local:8443 <authenticating> [IPv4 ('10.183.32.47', 8443)]>: Connection complete.\n",
      "INFO:kafka.conn:Broker version identified as 1.0.0\n",
      "INFO:kafka.conn:Set configuration api_version=(1, 0, 0) to skip auto check_version requests on startup\n",
      "INFO:kafka.consumer.subscription_state:Updating subscribed topics to: ('aapen-nada-topic',)\n",
      "INFO:jovyan:KafkaConnector:2021-01-07 15:55:49: KafkaConsumer created with fetch mode set to 'from_beginning'\n",
      "INFO:jovyan:KafkaConnector:2021-01-07 15:55:49: Reading kafka topic ['aapen-nada-topic']. Fetch mode from_beginning\n",
      "INFO:kafka.consumer.subscription_state:Updated partition assignment: [TopicPartition(topic='aapen-nada-topic', partition=0)]\n",
      "INFO:kafka.conn:<BrokerConnection node_id=2 host=b27apvl00046.preprod.local:8443 <connecting> [IPv4 ('10.183.32.47', 8443)]>: connecting to b27apvl00046.preprod.local:8443 [('10.183.32.47', 8443) IPv4]\n",
      "INFO:kafka.conn:<BrokerConnection node_id=2 host=b27apvl00046.preprod.local:8443 <handshake> [IPv4 ('10.183.32.47', 8443)]>: Loading SSL CA from /etc/pki/tls/certs/ca-bundle.crt\n",
      "INFO:kafka.conn:<BrokerConnection node_id=2 host=b27apvl00046.preprod.local:8443 <authenticating> [IPv4 ('10.183.32.47', 8443)]>: Authenticated as srvDataverk via PLAIN\n",
      "INFO:kafka.conn:<BrokerConnection node_id=2 host=b27apvl00046.preprod.local:8443 <authenticating> [IPv4 ('10.183.32.47', 8443)]>: Connection complete.\n",
      "INFO:kafka.conn:<BrokerConnection node_id=bootstrap-0 host=b27apvl00046.preprod.local:8443 <connected> [IPv4 ('10.183.32.47', 8443)]>: Closing connection. \n",
      "INFO:jovyan:KafkaConnector:2021-01-07 15:55:51: (31 messages read from kafka topic(s) ['aapen-nada-topic'] in 1.5924649238586426 sec. Fetch mode from_beginning\n",
      "INFO:kafka.conn:<BrokerConnection node_id=2 host=b27apvl00046.preprod.local:8443 <connected> [IPv4 ('10.183.32.47', 8443)]>: Closing connection. \n",
      "ERROR:kafka.consumer.fetcher:Fetch to node 2 failed: Cancelled: <BrokerConnection node_id=2 host=b27apvl00046.preprod.local:8443 <connected> [IPv4 ('10.183.32.47', 8443)]>\n"
     ]
    }
   ],
   "source": [
    "df = dv.read_kafka([\"aapen-nada-topic\"])"
   ]
  },
  {
   "cell_type": "code",
   "execution_count": 7,
   "metadata": {},
   "outputs": [
    {
     "data": {
      "text/html": [
       "<div>\n",
       "<style scoped>\n",
       "    .dataframe tbody tr th:only-of-type {\n",
       "        vertical-align: middle;\n",
       "    }\n",
       "\n",
       "    .dataframe tbody tr th {\n",
       "        vertical-align: top;\n",
       "    }\n",
       "\n",
       "    .dataframe thead th {\n",
       "        text-align: right;\n",
       "    }\n",
       "</style>\n",
       "<table border=\"1\" class=\"dataframe\">\n",
       "  <thead>\n",
       "    <tr style=\"text-align: right;\">\n",
       "      <th></th>\n",
       "      <th>id</th>\n",
       "      <th>name</th>\n",
       "      <th>int</th>\n",
       "      <th>tall</th>\n",
       "      <th>objekt</th>\n",
       "      <th>ny</th>\n",
       "      <th>nykolonne</th>\n",
       "      <th>dato</th>\n",
       "      <th>nyerekolonne</th>\n",
       "    </tr>\n",
       "  </thead>\n",
       "  <tbody>\n",
       "    <tr>\n",
       "      <th>0</th>\n",
       "      <td>cf3a9f04-2d0a-425b-9550-bf055508dc16</td>\n",
       "      <td>ErikV6</td>\n",
       "      <td>1</td>\n",
       "      <td>90.49</td>\n",
       "      <td>{'subval1': 'verdi'}</td>\n",
       "      <td>30.7</td>\n",
       "      <td>50</td>\n",
       "      <td>2020-04-21</td>\n",
       "      <td>verdi</td>\n",
       "    </tr>\n",
       "    <tr>\n",
       "      <th>1</th>\n",
       "      <td>597e628e-b20b-47e8-91dc-9d719570d740</td>\n",
       "      <td>ErikV6</td>\n",
       "      <td>2</td>\n",
       "      <td>90.49</td>\n",
       "      <td>{'subval1': 'verdi'}</td>\n",
       "      <td>30.7</td>\n",
       "      <td>50</td>\n",
       "      <td>2020-04-21</td>\n",
       "      <td>verdi</td>\n",
       "    </tr>\n",
       "    <tr>\n",
       "      <th>2</th>\n",
       "      <td>67e20c5a-dfdf-432d-b8c8-8ee8ba446f85</td>\n",
       "      <td>ErikV6</td>\n",
       "      <td>3</td>\n",
       "      <td>90.49</td>\n",
       "      <td>{'subval1': 'verdi'}</td>\n",
       "      <td>30.7</td>\n",
       "      <td>50</td>\n",
       "      <td>2020-04-21</td>\n",
       "      <td>verdi</td>\n",
       "    </tr>\n",
       "    <tr>\n",
       "      <th>3</th>\n",
       "      <td>095f0c6d-321d-44d8-b0ad-710137965dcd</td>\n",
       "      <td>ErikV6</td>\n",
       "      <td>4</td>\n",
       "      <td>90.49</td>\n",
       "      <td>{'subval1': 'verdi'}</td>\n",
       "      <td>30.7</td>\n",
       "      <td>50</td>\n",
       "      <td>2020-04-21</td>\n",
       "      <td>verdi</td>\n",
       "    </tr>\n",
       "    <tr>\n",
       "      <th>4</th>\n",
       "      <td>e7ee18ad-61de-441f-980e-f313af2e6f21</td>\n",
       "      <td>ErikV6</td>\n",
       "      <td>5</td>\n",
       "      <td>90.49</td>\n",
       "      <td>{'subval1': 'verdi'}</td>\n",
       "      <td>30.7</td>\n",
       "      <td>50</td>\n",
       "      <td>2020-04-21</td>\n",
       "      <td>verdi</td>\n",
       "    </tr>\n",
       "  </tbody>\n",
       "</table>\n",
       "</div>"
      ],
      "text/plain": [
       "                                     id    name  int   tall  \\\n",
       "0  cf3a9f04-2d0a-425b-9550-bf055508dc16  ErikV6    1  90.49   \n",
       "1  597e628e-b20b-47e8-91dc-9d719570d740  ErikV6    2  90.49   \n",
       "2  67e20c5a-dfdf-432d-b8c8-8ee8ba446f85  ErikV6    3  90.49   \n",
       "3  095f0c6d-321d-44d8-b0ad-710137965dcd  ErikV6    4  90.49   \n",
       "4  e7ee18ad-61de-441f-980e-f313af2e6f21  ErikV6    5  90.49   \n",
       "\n",
       "                 objekt    ny  nykolonne        dato nyerekolonne  \n",
       "0  {'subval1': 'verdi'}  30.7         50  2020-04-21        verdi  \n",
       "1  {'subval1': 'verdi'}  30.7         50  2020-04-21        verdi  \n",
       "2  {'subval1': 'verdi'}  30.7         50  2020-04-21        verdi  \n",
       "3  {'subval1': 'verdi'}  30.7         50  2020-04-21        verdi  \n",
       "4  {'subval1': 'verdi'}  30.7         50  2020-04-21        verdi  "
      ]
     },
     "execution_count": 7,
     "metadata": {},
     "output_type": "execute_result"
    }
   ],
   "source": [
    "df.head()"
   ]
  },
  {
   "cell_type": "markdown",
   "metadata": {},
   "source": [
    "## Convert dataframe to pickle and upload to gcs"
   ]
  },
  {
   "cell_type": "code",
   "execution_count": 8,
   "metadata": {},
   "outputs": [],
   "source": [
    "df.to_pickle(\"databasedump_kafka.pkl\")"
   ]
  },
  {
   "cell_type": "code",
   "execution_count": 9,
   "metadata": {},
   "outputs": [],
   "source": [
    "blob = bucket.blob(\"airflow/databasedump_kafka.pkl\")"
   ]
  },
  {
   "cell_type": "code",
   "execution_count": 10,
   "metadata": {},
   "outputs": [],
   "source": [
    "blob.upload_from_filename(\"databasedump_kafka.pkl\")"
   ]
  },
  {
   "cell_type": "code",
   "execution_count": null,
   "metadata": {},
   "outputs": [],
   "source": []
  }
 ],
 "metadata": {
  "kernelspec": {
   "display_name": "Python 3",
   "language": "python",
   "name": "python3"
  },
  "language_info": {
   "codemirror_mode": {
    "name": "ipython",
    "version": 3
   },
   "file_extension": ".py",
   "mimetype": "text/x-python",
   "name": "python",
   "nbconvert_exporter": "python",
   "pygments_lexer": "ipython3",
   "version": "3.7.4"
  }
 },
 "nbformat": 4,
 "nbformat_minor": 4
}
